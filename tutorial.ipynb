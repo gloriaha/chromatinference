{
 "cells": [
  {
   "cell_type": "markdown",
   "metadata": {},
   "source": [
    "## error_correction package tutorial\n",
    "Authors: Gloria Ha and Paul Dieterle\n",
    "\n",
    "Description: With this package we can infer parameters for different models of error generation in spindle assembly.\n",
    "\n",
    "Last updated: 4/14/2020"
   ]
  },
  {
   "cell_type": "code",
   "execution_count": 1,
   "metadata": {},
   "outputs": [],
   "source": [
    "# import packages\n",
    "from error_correction import data_io\n",
    "from error_correction import generate_data\n",
    "from error_correction.model import logLikeIndDelta\n",
    "import numpy as np\n",
    "import pandas as pd\n",
    "import matplotlib.pyplot as plt"
   ]
  },
  {
   "cell_type": "markdown",
   "metadata": {},
   "source": [
    "### Generative model derivation\n",
    "\n",
    "For this tutorial we will focus on the most basic, \"independent model.\"  We can denote $N$ as the number of chromosomes in each cell.  In this model, each chromosome has an equal low probability, $p$, of missegregation in a single division.  In this case, the probability of $M$ missegregations is given by\n",
    "\n",
    "\\begin{equation*}\n",
    "    P(M) = {N\\choose M}p^M(1-p)^{N-M}.\n",
    "\\end{equation*}\n",
    "\n",
    "The experimental quantity being measured is the number of chromatids in each daughter cell after a single division. In particular, we are looking to calculate the distribution of *differences* in chromatid counts between the two daughter cells. We assume the $M$ chromosomes that missegregate fall into either daughter cell with equal probability. This gives $Q_1$ full chromosomes in daughter cell 1, meaning that daughter cell 1 has a number of chromatids $N_1$ given by\n",
    "\n",
    "\\begin{equation*}\n",
    "     N_1 = N-M+2Q_1(M),\n",
    "\\end{equation*}\n",
    "\n",
    "where $Q_1(M)$ is a random variable distributed according to\n",
    "\n",
    "\\begin{equation*}\n",
    "     P(Q_1) = {M\\choose Q_1}2^{-Q_1}2^{-(M-Q_1)} = {M\\choose Q_1}2^{-M}.\n",
    "\\end{equation*}\n",
    "\n",
    "From this, we can deduce that the distribution of $N_1$ is a simple convolution given by\n",
    "\n",
    "\\begin{equation*}\n",
    "     P(N_1) = \\sum_{M=0}^NP(M)P\\left(Q_1 = \\frac{N_1-N+M}{2}\\right) = \\sum_{M=0}^N{N\\choose M}{M\\choose \\frac{N_1-N+M}{2}}2^{-M}p^M(1-p)^{N-M},\n",
    "\\end{equation*}\n",
    "\n",
    "which tells us as well that the distribution of *differences* in chromatid counts,\n",
    "\n",
    "\\begin{equation*}\n",
    "    P(\\Delta = |N_1-N_2| = 2|N_1-N|),\n",
    "\\end{equation*}\n",
    "\n",
    "is given by\n",
    "\n",
    "\\begin{equation*}\n",
    "    P(\\Delta) = P(N_1 = N-\\Delta/2)+p(N_1=N+\\Delta/2).\n",
    "\\end{equation*}\n",
    "\n",
    "As such, we may construct a beautiful likelihood function given $n$ measurements with measurement $j$ showing chromatid difference $\\Delta_j$:\n",
    "\n",
    "\\begin{equation*}\n",
    "    L(p) = \\prod_{n=1}^NP(\\Delta_j).\n",
    "\\end{equation*}\n",
    "\n",
    "Below, we give some demonstrations of this likelihood function with two synthetic datasets. In the future, we need to work to characterize our experimental noise. Of course, there is noise inherent to the biological process and measurement noise in counting chromatids.  We have not incorporated measurement noise in our model yet, as we are still trying to think of its functional form.\n",
    "\n",
    "We will also use our time to construct other models, including the catastrophe model, in which some large number of chromosomes $C$ missegregate due to a cell-wide coordination mishap.\n",
    "\n",
    "Let us proceed with our demo."
   ]
  },
  {
   "cell_type": "markdown",
   "metadata": {},
   "source": [
    "### Generating synthetic data\n",
    "\n",
    "With the code in our package, we can generate and store synthetic data for the independent and catastrophe models.  Here we will demonstrate how this data can be generated.  We will start by generating data from the independent model for high and low missegregation probability values."
   ]
  },
  {
   "cell_type": "code",
   "execution_count": 2,
   "metadata": {},
   "outputs": [
    {
     "name": "stdout",
     "output_type": "stream",
     "text": [
      "   errors  N_1  N_2  dNk  N_1_w_noise  N_2_w_noise  dNk_w_noise\n",
      "0       1   91   93    2           91           93            2\n",
      "1       0   92   92    0           92           92            0\n",
      "2       0   92   92    0           92           92            0\n",
      "3       1   93   91    2           93           91            2\n",
      "4       1   91   93    2           91           93            2\n",
      "{'p_misseg': 0.01, 'n_cells': 1000, 'n_chrom': 92, 'p_left': 0.5, 'p_fn': 0}\n"
     ]
    }
   ],
   "source": [
    "# set up data directory and parameters\n",
    "data_dir = 'example_data'\n",
    "p_misseg = [0.003, 0.01]\n",
    "n_cells = 1000\n",
    "n_chrom = 92\n",
    "p_left = 0.5\n",
    "p_fn = 0\n",
    "\n",
    "# generate and store data\n",
    "high_ind_data = generate_data.GenerateData('independent',\n",
    "                                          [p_misseg[1], n_cells, n_chrom, p_left, p_fn],\n",
    "                                          'high_ind',\n",
    "                                          data_dir)\n",
    "low_ind_data = generate_data.GenerateData('independent',\n",
    "                                          [p_misseg[0], n_cells, n_chrom, p_left, p_fn],\n",
    "                                          'low_ind',\n",
    "                                          data_dir)\n",
    "\n",
    "# display snippet of data\n",
    "print(high_ind_data.data.head())\n",
    "\n",
    "# display parameters\n",
    "print(high_ind_data.params)"
   ]
  },
  {
   "cell_type": "markdown",
   "metadata": {},
   "source": [
    "The `GenerateData` class stores the data in a dataframe and the parameters in a dictionary, as seen above.  The synthetic data includes some information that is hidden in the real data, such as the true number of errors, and the true number of chromatids per cell.\n",
    "\n",
    "This has also generated two data files per set of parameters, `data_high_ind.txt` and `params_low_ind.yml` in the `example_data` directory, which can then be parsed using the `SyntheticData` class in the `data_io` module."
   ]
  },
  {
   "cell_type": "code",
   "execution_count": 3,
   "metadata": {},
   "outputs": [
    {
     "name": "stdout",
     "output_type": "stream",
     "text": [
      "   errors  N_1  N_2  dNk  N_1_w_noise  N_2_w_noise  dNk_w_noise\n",
      "0       1   91   93    2           91           93            2\n",
      "1       0   92   92    0           92           92            0\n",
      "2       0   92   92    0           92           92            0\n",
      "3       1   93   91    2           93           91            2\n",
      "4       1   91   93    2           91           93            2\n",
      "{'n_cells': 1000, 'n_chrom': 92, 'p_fn': 0, 'p_left': 0.5, 'p_misseg': 0.01}\n"
     ]
    }
   ],
   "source": [
    "# let's import the data that we generated\n",
    "imported_high_ind = data_io.SyntheticData('params_high_ind.yml',\n",
    "                                          'data_high_ind.txt',\n",
    "                                          data_dir)\n",
    "imported_low_ind = data_io.SyntheticData('params_low_ind.yml',\n",
    "                                         'data_low_ind.txt',\n",
    "                                         data_dir)\n",
    "# display snippet of data\n",
    "print(imported_high_ind.data.head())\n",
    "\n",
    "# display parameters\n",
    "print(imported_high_ind.params)"
   ]
  },
  {
   "cell_type": "markdown",
   "metadata": {},
   "source": [
    "We can see that the information is recovered when we parse the data files. "
   ]
  },
  {
   "cell_type": "markdown",
   "metadata": {},
   "source": [
    "### Parameter estimation\n",
    "\n",
    "Now we can use our log likelihood function derived above to calculate do parameter estimation on the most likely value of the error rate."
   ]
  },
  {
   "cell_type": "code",
   "execution_count": 4,
   "metadata": {},
   "outputs": [],
   "source": [
    "# Next, we determine what range of p we would like to examine\n",
    "p_range = np.linspace(0.001,0.02,20)\n",
    "\n",
    "# Then, we calculate our likelihoods\n",
    "like_high = [logLikeIndDelta(imported_high_ind,[i]) for i in p_range]\n",
    "like_low = [logLikeIndDelta(imported_low_ind,[i]) for i in p_range]"
   ]
  },
  {
   "cell_type": "markdown",
   "metadata": {},
   "source": [
    "Let's plot the results."
   ]
  },
  {
   "cell_type": "code",
   "execution_count": 5,
   "metadata": {},
   "outputs": [
    {
     "data": {
      "image/png": "[encoded data removed]",
      "text/plain": [
       "<Figure size 432x288 with 1 Axes>"
      ]
     },
     "metadata": {
      "needs_background": "light"
     },
     "output_type": "display_data"
    },
    {
     "data": {
      "image/png": "[encoded data removed]",
      "text/plain": [
       "<Figure size 432x288 with 1 Axes>"
      ]
     },
     "metadata": {
      "needs_background": "light"
     },
     "output_type": "display_data"
    }
   ],
   "source": [
    "# Then we plot\n",
    "xl = 'prob. of misseg.'\n",
    "yl = 'log likelihood'\n",
    "\n",
    "plt.figure();\n",
    "plt.plot(p_range,like_low);\n",
    "plt.xlabel(xl);\n",
    "plt.ylabel(yl);\n",
    "\n",
    "plt.figure();\n",
    "plt.plot(p_range,like_high);\n",
    "plt.xlabel(xl);\n",
    "plt.ylabel(yl);"
   ]
  },
  {
   "cell_type": "markdown",
   "metadata": {},
   "source": [
    "As we can see, these inferred likelihoods indeed agree quite well with the actual values"
   ]
  },
  {
   "cell_type": "code",
   "execution_count": 6,
   "metadata": {},
   "outputs": [
    {
     "name": "stdout",
     "output_type": "stream",
     "text": [
      "{'n_cells': 1000, 'n_chrom': 92, 'p_fn': 0, 'p_left': 0.5, 'p_misseg': 0.003}\n",
      "{'n_cells': 1000, 'n_chrom': 92, 'p_fn': 0, 'p_left': 0.5, 'p_misseg': 0.01}\n"
     ]
    }
   ],
   "source": [
    "print(imported_low_ind.params)\n",
    "print(imported_high_ind.params)"
   ]
  }
 ],
 "metadata": {
  "kernelspec": {
   "display_name": "Python 3",
   "language": "python",
   "name": "python3"
  },
  "language_info": {
   "codemirror_mode": {
    "name": "ipython",
    "version": 3
   },
   "file_extension": ".py",
   "mimetype": "text/x-python",
   "name": "python",
   "nbconvert_exporter": "python",
   "pygments_lexer": "ipython3",
   "version": "3.7.4"
  }
 },
 "nbformat": 4,
 "nbformat_minor": 4
}
