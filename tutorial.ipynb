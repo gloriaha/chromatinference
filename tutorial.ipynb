{
 "cells": [
  {
   "cell_type": "markdown",
   "metadata": {},
   "source": [
    "## error_correction package tutorial\n",
    "Authors: Gloria Ha and Paul Dieterle\n",
    "\n",
    "Description: With this package we can infer parameters for different models of error generation in spindle assembly.\n",
    "\n",
    "Last updated: 4/14/2020"
   ]
  },
  {
   "cell_type": "code",
   "execution_count": 1,
   "metadata": {},
   "outputs": [],
   "source": [
    "from error_correction import data_io\n",
    "from error_correction.model import logLikeIndDelta\n",
    "import numpy as np\n",
    "import pandas as pd\n",
    "import matplotlib.pyplot as plt"
   ]
  },
  {
   "cell_type": "markdown",
   "metadata": {},
   "source": [
    "For this tutorial we will focus on the most basic, \"independent model.\"  We can denote $N$ as the number of chromosomes in each cell.  In this model, each chromosome has an equal low probability, $p$, of missegregation in a single division.  In this case, the probability of $M$ missegregations is given by\n",
    "\n",
    "\\begin{equation*}\n",
    "    P(M) = {N\\choose M}p^M(1-p)^{N-M}.\n",
    "\\end{equation*}\n",
    "\n",
    "The experimental quantity being measured is the number of chromatids in each daughter cell after a single division. In particular, we are looking to calculate the distribution of *differences* in chromatid counts between the two daughter cells. We assume the $M$ chromosomes that missegregate fall into either daughter cell with equal probability. This gives $Q_1$ full chromosomes in daughter cell 1, meaning that daughter cell 1 has a number of chromatids $N_1$ given by\n",
    "\n",
    "\\begin{equation*}\n",
    "     N_1 = N-M+2Q_1(M),\n",
    "\\end{equation*}\n",
    "\n",
    "where $Q_1(M)$ is a random variable distributed according to\n",
    "\n",
    "\\begin{equation*}\n",
    "     P(Q_1) = {M\\choose Q_1}2^{-Q_1}2^{-(M-Q_1)} = {M\\choose Q_1}2^{-M}.\n",
    "\\end{equation*}\n",
    "\n",
    "From this, we can deduce that the distribution of $N_1$ is a simple convolution given by\n",
    "\n",
    "\\begin{equation*}\n",
    "     P(N_1) = \\sum_{M=0}^NP(M)P\\left(Q_1 = \\frac{N_1-N+M}{2}\\right) = \\sum_{M=0}^N{N\\choose M}{M\\choose \\frac{N_1-N+M}{2}}2^{-M}p^M(1-p)^{N-M},\n",
    "\\end{equation*}\n",
    "\n",
    "which tells us as well that the distribution of \\textit{differences} in chromatid counts,\n",
    "\n",
    "\\begin{equation*}\n",
    "    P(\\Delta = |N_1-N_2| = 2|N_1-N|),\n",
    "\\end{equation*}\n",
    "\n",
    "is given by\n",
    "\n",
    "\\begin{equation*}\n",
    "    P(\\Delta) = P(N_1 = N-\\Delta/2)+p(N_1=N+\\Delta/2).\n",
    "\\end{equation*}\n",
    "\n",
    "As such, we may construct a beautiful likelihood function given $n$ measurements with measurement $j$ showing chromatid difference $\\Delta_j$:\n",
    "\n",
    "\\begin{equation*}\n",
    "    L(p) = \\prod_{n=1}^NP(\\Delta_j).\n",
    "\\end{equation*}\n",
    "\n",
    "Below, we give some demonstrations of this likelihood function with two synthetic datasets. In the future, we need to work to characterize our experimental noise. Of course, there is noise inherent to the biological process and measurement noise in counting chromatids.  We have not incorporated measurement noise in our model yet, as we are still trying to think of its functional form.\n",
    "\n",
    "We will also use our time to construct other models, including the catastrophe model, in which some large number of chromosomes $C$ missegregate due to a cell-wide coordination mishap.\n",
    "\n",
    "Let us proceed with our demo."
   ]
  },
  {
   "cell_type": "code",
   "execution_count": 2,
   "metadata": {},
   "outputs": [],
   "source": [
    "# First, we write the data directory\n",
    "dataDir = 'example_data/'\n",
    "\n",
    "# Then, we import ye olde data -- a low-error-rate dataset and\n",
    "# a high-error-rate dataset\n",
    "highIndData = data_io.SyntheticData('params_high_ind.yml',\n",
    "                                    'data_high_ind.txt',\n",
    "                                    dataDir)\n",
    "lowIndData = data_io.SyntheticData('params_low_ind.yml',\n",
    "                                   'data_low_ind.txt',\n",
    "                                   dataDir)"
   ]
  },
  {
   "cell_type": "code",
   "execution_count": 3,
   "metadata": {},
   "outputs": [],
   "source": [
    "# Next, we determine what range of p we would like to examine\n",
    "pHigh = np.linspace(0.001,0.02,20)\n",
    "pLow = np.linspace(0.001,0.005,20)\n",
    "\n",
    "# Then, we calculate our likelihoods\n",
    "likeHigh = [logLikeIndDelta(highIndData,i) for i in pHigh]\n",
    "likeLow = [logLikeIndDelta(lowIndData,i) for i in pLow]"
   ]
  },
  {
   "cell_type": "code",
   "execution_count": 4,
   "metadata": {},
   "outputs": [
    {
     "data": {
      "image/png": "[encoded data removed]",
      "text/plain": [
       "<Figure size 432x288 with 1 Axes>"
      ]
     },
     "metadata": {
      "needs_background": "light"
     },
     "output_type": "display_data"
    },
    {
     "data": {
      "image/png": "[encoded data removed]",
      "text/plain": [
       "<Figure size 432x288 with 1 Axes>"
      ]
     },
     "metadata": {
      "needs_background": "light"
     },
     "output_type": "display_data"
    }
   ],
   "source": [
    "# Then we plot\n",
    "xl = 'prob. of misseg.'\n",
    "yl = 'log likelihood'\n",
    "\n",
    "plt.figure();\n",
    "plt.plot(pLow,likeLow);\n",
    "plt.xlabel(xl);\n",
    "plt.ylabel(yl);\n",
    "\n",
    "plt.figure();\n",
    "plt.plot(pHigh,likeHigh);\n",
    "plt.xlabel(xl);\n",
    "plt.ylabel(yl);"
   ]
  },
  {
   "cell_type": "markdown",
   "metadata": {},
   "source": [
    "As we can see, these inferred likelihoods indeed agree quite well with the actual values"
   ]
  },
  {
   "cell_type": "code",
   "execution_count": 5,
   "metadata": {},
   "outputs": [
    {
     "name": "stdout",
     "output_type": "stream",
     "text": [
      "{'n_cells': 10000, 'n_chrom': 92, 'p_misseg': 0.003}\n",
      "{'n_cells': 10000, 'n_chrom': 92, 'p_misseg': 0.01}\n"
     ]
    }
   ],
   "source": [
    "print(lowIndData.params)\n",
    "print(highIndData.params)"
   ]
  },
  {
   "cell_type": "code",
   "execution_count": null,
   "metadata": {},
   "outputs": [],
   "source": []
  }
 ],
 "metadata": {
  "kernelspec": {
   "display_name": "Python 3",
   "language": "python",
   "name": "python3"
  },
  "language_info": {
   "codemirror_mode": {
    "name": "ipython",
    "version": 3
   },
   "file_extension": ".py",
   "mimetype": "text/x-python",
   "name": "python",
   "nbconvert_exporter": "python",
   "pygments_lexer": "ipython3",
   "version": "3.7.4"
  }
 },
 "nbformat": 4,
 "nbformat_minor": 4
}
