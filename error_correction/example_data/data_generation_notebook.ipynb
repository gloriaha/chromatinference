{
 "cells": [
  {
   "cell_type": "code",
   "execution_count": 1,
   "metadata": {},
   "outputs": [],
   "source": [
    "from generate_data import dNk_from_errors, generate_catastrophe_data, generate_independent_data\n",
    "import numpy as np\n",
    "import scipy.stats as st\n",
    "import pandas as pd\n",
    "import matplotlib.pyplot as plt\n",
    "%matplotlib inline"
   ]
  },
  {
   "cell_type": "markdown",
   "metadata": {},
   "source": [
    "This notebook is to generate synthetic data from the two models.  Currently we're focusing on the \"initial condition\" distribution."
   ]
  },
  {
   "cell_type": "code",
   "execution_count": 2,
   "metadata": {},
   "outputs": [],
   "source": [
    "# this is not what I used but we could consider generating a lot of datasets...\n",
    "# p_misseg = np.linspace(0.001, 0.1, 10)\n",
    "# n_chrom = 92\n",
    "# n_cells = 10000\n",
    "# p_cat = np.linspace(0.005, 0.5, 10)\n",
    "# C = np.arange(1,10)"
   ]
  },
  {
   "cell_type": "markdown",
   "metadata": {},
   "source": [
    "Consider extreme case for our test datasets (high_cat):\n",
    "- Very low probability of missegregation for each chromosome for each division: ~0.3% (lower end of what's been seen in aneuploid tumor cell lines)\n",
    "- High probability of cells having catastrophe: ~50% (this is very high)\n",
    "- Large number of chromosomes bound to be missegregated in catastrophe cells: ~10\n",
    "\n",
    "Consider a less extreme case (low_cat):\n",
    "- High probability of missegregation for each chromosome for each division: ~1% (higher end of what's been seen in aneuploid tumor cell lines)\n",
    "- Low probability of cells having catastrophe: ~10%\n",
    "- Low number of chromosomes bound to be missegregated in catastrophe cells: ~3\n",
    "\n",
    "And for the corresponding independent model datasets, just vary probability of missegregation from lower bound (low_ind) to upper (high_ind) bound.\n",
    "\n",
    "I will generate test datasets of 10000 cells each.  We can then sample from these datasets to simulate experiments with finite numbers of cells.\n",
    "\n"
   ]
  },
  {
   "cell_type": "code",
   "execution_count": 3,
   "metadata": {},
   "outputs": [],
   "source": [
    "# set random seed for reproducibility\n",
    "np.random.seed(75)\n",
    "\n",
    "# set up parameters\n",
    "p_misseg = [0.003, 0.01]\n",
    "n_cells = 10000\n",
    "n_chrom = 92\n",
    "p_cat = [0.5, 0.1]\n",
    "C = [10,3]\n",
    "\n",
    "# set up names for saving files\n",
    "cat_names = ['high_cat.txt', 'low_cat.txt']\n",
    "ind_names = ['low_ind.txt', 'high_ind.txt']\n",
    "param_names = ['p_misseg', 'n_cells', 'n_chrom', 'p_cat', 'C']\n",
    "\n",
    "# generate and store data\n",
    "for i in range(2):\n",
    "    params = p_misseg[i], n_cells, n_chrom, p_cat[i], C[i]\n",
    "    df_cat = generate_catastrophe_data(params)\n",
    "    with open('data_'+cat_names[i], 'w') as f:\n",
    "        f.write('# catastrophe model\\n')\n",
    "        for j, param in enumerate(params):\n",
    "            f.write('# '+param_names[j]+': '+str(param)+'\\n')\n",
    "        f.write(df_cat.to_string(index=None))\n",
    "    df_ind = generate_independent_data(params[:3]) \n",
    "    with open('data_'+ind_names[i], 'w') as f:    \n",
    "        f.write('# independent model')\n",
    "        for j, param in enumerate(params[:3]):\n",
    "            f.write('# '+param_names[j]+': '+str(param)+'\\n')\n",
    "        f.write(df_ind.to_string(index=None))"
   ]
  }
 ],
 "metadata": {
  "kernelspec": {
   "display_name": "Python 3",
   "language": "python",
   "name": "python3"
  },
  "language_info": {
   "codemirror_mode": {
    "name": "ipython",
    "version": 3
   },
   "file_extension": ".py",
   "mimetype": "text/x-python",
   "name": "python",
   "nbconvert_exporter": "python",
   "pygments_lexer": "ipython3",
   "version": "3.7.4"
  }
 },
 "nbformat": 4,
 "nbformat_minor": 4
}
